{
 "cells": [
  {
   "cell_type": "markdown",
   "id": "7c44b0b0",
   "metadata": {},
   "source": [
    "# Log‑Return Normality Testing\n",
    "This notebook investigates the classic **“log‑returns are normally distributed”** assumption that underpins many models in theoretical and computational finance.\n",
    "\n",
    "1. Pull historical price data with `yfinance`.\n",
    "2. Compute daily log‑returns.\n",
    "3. Run four normality tests (Shapiro‑Wilk, Anderson–Darling, Jarque‑Bera, Kolmogorov–Smirnov).\n",
    "4. Scan rolling windows for periods that look Gaussian.\n",
    "5. Examine how trimming extreme returns affects normality.\n",
    "6. Aggregate assets into a portfolio and re‑test.\n",
    "\n"
   ]
  },
  {
   "cell_type": "code",
   "id": "1e87802b",
   "metadata": {
    "ExecuteTime": {
     "end_time": "2025-06-26T21:36:28.828384Z",
     "start_time": "2025-06-26T21:36:28.822454Z"
    }
   },
   "source": [
    "import yfinance as yf\n",
    "import pandas as pd, numpy as np\n",
    "from scipy import stats\n",
    "from statsmodels.stats.stattools import jarque_bera\n",
    "from tqdm.auto import tqdm\n",
    "\n",
    "def get_prices(tickers, start=\"2000-01-01\", end=None):\n",
    "    \"\"\"Download adjusted close prices from Yahoo Finance.\"\"\"\n",
    "    data = yf.download(tickers, start=start, end=end, progress=False)[\"Close\"]\n",
    "    return data.dropna(how=\"all\")\n",
    "\n",
    "def log_returns(prices):\n",
    "    return np.log(prices).diff().dropna(how=\"all\")\n",
    "\n",
    "def run_normality_tests(series, alpha=0.05):\n",
    "    \"\"\"Return dict of p‑values for several normality tests.\"\"\"\n",
    "    s = series.dropna()\n",
    "    if len(s) < 8:                       # guard against short samples\n",
    "        return {k: np.nan for k in ['Shapiro', 'Anderson', 'Jarque‑Bera', 'KS']}\n",
    "    stat, p = stats.shapiro(s)\n",
    "    result = {'Shapiro': p}\n",
    "    stat, crit, sig = stats.anderson(s, dist='norm')\n",
    "    # pseudo‑p for AD by linear interpolation of critical values\n",
    "    result['Anderson'] = np.interp(stat, crit[::-1], np.array(sig[::-1]) / 100.0)\n",
    "    jb_stat, jb_p, _, _ = jarque_bera(s)\n",
    "    result['Jarque‑Bera'] = jb_p\n",
    "    ks_stat, ks_p = stats.kstest((s - s.mean()) / s.std(ddof=0), 'norm')\n",
    "    result['KS'] = ks_p\n",
    "    result['n'] = len(s)\n",
    "    result['Accept'] = all(pv > alpha for k, pv in result.items() if k not in ('n',))\n",
    "    return result"
   ],
   "outputs": [],
   "execution_count": 4
  },
  {
   "cell_type": "code",
   "id": "afa16e52",
   "metadata": {
    "ExecuteTime": {
     "end_time": "2025-06-26T21:36:31.607292Z",
     "start_time": "2025-06-26T21:36:31.150697Z"
    }
   },
   "source": [
    "# ✏️ Choose your tickers\n",
    "tickers = [\"SPY\", \"QQQ\", \"IWM\", \"TLT\", \"GLD\"]  # mix of equity, bond, gold ETFs\n",
    "\n",
    "prices  = get_prices(tickers, start=\"2010-01-01\")\n",
    "rets    = log_returns(prices)\n",
    "rets.head()"
   ],
   "outputs": [
    {
     "name": "stderr",
     "output_type": "stream",
     "text": [
      "/var/folders/td/1g5gnnmn7qx6lxwj714bbt9c0000gn/T/ipykernel_15761/4136260035.py:9: FutureWarning: YF.download() has changed argument auto_adjust default to True\n",
      "  data = yf.download(tickers, start=start, end=end, progress=False)[\"Close\"]\n"
     ]
    },
    {
     "data": {
      "text/plain": [
       "Ticker           GLD       IWM       QQQ       SPY       TLT\n",
       "Date                                                        \n",
       "2010-01-05 -0.000911 -0.003444  0.000000  0.002643  0.006437\n",
       "2010-01-06  0.016365 -0.000941 -0.006050  0.000704 -0.013477\n",
       "2010-01-07 -0.006207  0.007351  0.000650  0.004213  0.001681\n",
       "2010-01-08  0.004951  0.005439  0.008197  0.003322 -0.000448\n",
       "2010-01-11  0.013201 -0.004038 -0.004090  0.001396 -0.005503"
      ],
      "text/html": [
       "<div>\n",
       "<style scoped>\n",
       "    .dataframe tbody tr th:only-of-type {\n",
       "        vertical-align: middle;\n",
       "    }\n",
       "\n",
       "    .dataframe tbody tr th {\n",
       "        vertical-align: top;\n",
       "    }\n",
       "\n",
       "    .dataframe thead th {\n",
       "        text-align: right;\n",
       "    }\n",
       "</style>\n",
       "<table border=\"1\" class=\"dataframe\">\n",
       "  <thead>\n",
       "    <tr style=\"text-align: right;\">\n",
       "      <th>Ticker</th>\n",
       "      <th>GLD</th>\n",
       "      <th>IWM</th>\n",
       "      <th>QQQ</th>\n",
       "      <th>SPY</th>\n",
       "      <th>TLT</th>\n",
       "    </tr>\n",
       "    <tr>\n",
       "      <th>Date</th>\n",
       "      <th></th>\n",
       "      <th></th>\n",
       "      <th></th>\n",
       "      <th></th>\n",
       "      <th></th>\n",
       "    </tr>\n",
       "  </thead>\n",
       "  <tbody>\n",
       "    <tr>\n",
       "      <th>2010-01-05</th>\n",
       "      <td>-0.000911</td>\n",
       "      <td>-0.003444</td>\n",
       "      <td>0.000000</td>\n",
       "      <td>0.002643</td>\n",
       "      <td>0.006437</td>\n",
       "    </tr>\n",
       "    <tr>\n",
       "      <th>2010-01-06</th>\n",
       "      <td>0.016365</td>\n",
       "      <td>-0.000941</td>\n",
       "      <td>-0.006050</td>\n",
       "      <td>0.000704</td>\n",
       "      <td>-0.013477</td>\n",
       "    </tr>\n",
       "    <tr>\n",
       "      <th>2010-01-07</th>\n",
       "      <td>-0.006207</td>\n",
       "      <td>0.007351</td>\n",
       "      <td>0.000650</td>\n",
       "      <td>0.004213</td>\n",
       "      <td>0.001681</td>\n",
       "    </tr>\n",
       "    <tr>\n",
       "      <th>2010-01-08</th>\n",
       "      <td>0.004951</td>\n",
       "      <td>0.005439</td>\n",
       "      <td>0.008197</td>\n",
       "      <td>0.003322</td>\n",
       "      <td>-0.000448</td>\n",
       "    </tr>\n",
       "    <tr>\n",
       "      <th>2010-01-11</th>\n",
       "      <td>0.013201</td>\n",
       "      <td>-0.004038</td>\n",
       "      <td>-0.004090</td>\n",
       "      <td>0.001396</td>\n",
       "      <td>-0.005503</td>\n",
       "    </tr>\n",
       "  </tbody>\n",
       "</table>\n",
       "</div>"
      ]
     },
     "execution_count": 5,
     "metadata": {},
     "output_type": "execute_result"
    }
   ],
   "execution_count": 5
  },
  {
   "cell_type": "code",
   "id": "40cf7785",
   "metadata": {
    "ExecuteTime": {
     "end_time": "2025-06-26T21:36:33.634400Z",
     "start_time": "2025-06-26T21:36:33.564860Z"
    }
   },
   "source": [
    "# ----- Whole‑period normality tests ---------------------------------------\n",
    "import pandas as pd\n",
    "\n",
    "tests_full = rets.apply(lambda s: pd.Series(run_normality_tests(s))).T\n",
    "\n",
    "# In case you passed only **one** ticker, the result will be a Series → fix:\n",
    "if isinstance(tests_full, pd.Series):\n",
    "    tests_full = tests_full.to_frame().T\n",
    "\n",
    "# Pretty display (falls back gracefully if your pandas version lacks Series.style)\n",
    "try:\n",
    "    display(tests_full.style.format(\"{:.4f}\").background_gradient(axis=0, cmap=\"RdYlGn_r\"))\n",
    "except AttributeError:\n",
    "    display(tests_full.round(4))\n"
   ],
   "outputs": [
    {
     "data": {
      "text/plain": [
       "<pandas.io.formats.style.Styler at 0x123dd40a0>"
      ],
      "text/html": [
       "<style type=\"text/css\">\n",
       "</style>\n",
       "<table id=\"T_92b7c\">\n",
       "  <thead>\n",
       "    <tr>\n",
       "      <th class=\"blank level0\" >&nbsp;</th>\n",
       "      <th id=\"T_92b7c_level0_col0\" class=\"col_heading level0 col0\" >Shapiro</th>\n",
       "      <th id=\"T_92b7c_level0_col1\" class=\"col_heading level0 col1\" >Anderson</th>\n",
       "      <th id=\"T_92b7c_level0_col2\" class=\"col_heading level0 col2\" >Jarque‑Bera</th>\n",
       "      <th id=\"T_92b7c_level0_col3\" class=\"col_heading level0 col3\" >KS</th>\n",
       "      <th id=\"T_92b7c_level0_col4\" class=\"col_heading level0 col4\" >n</th>\n",
       "      <th id=\"T_92b7c_level0_col5\" class=\"col_heading level0 col5\" >Accept</th>\n",
       "    </tr>\n",
       "    <tr>\n",
       "      <th class=\"index_name level0\" >Ticker</th>\n",
       "      <th class=\"blank col0\" >&nbsp;</th>\n",
       "      <th class=\"blank col1\" >&nbsp;</th>\n",
       "      <th class=\"blank col2\" >&nbsp;</th>\n",
       "      <th class=\"blank col3\" >&nbsp;</th>\n",
       "      <th class=\"blank col4\" >&nbsp;</th>\n",
       "      <th class=\"blank col5\" >&nbsp;</th>\n",
       "    </tr>\n",
       "  </thead>\n",
       "  <tbody>\n",
       "    <tr>\n",
       "      <th id=\"T_92b7c_level0_row0\" class=\"row_heading level0 row0\" >GLD</th>\n",
       "      <td id=\"T_92b7c_row0_col0\" class=\"data row0 col0\" >0.0000</td>\n",
       "      <td id=\"T_92b7c_row0_col1\" class=\"data row0 col1\" >0.1500</td>\n",
       "      <td id=\"T_92b7c_row0_col2\" class=\"data row0 col2\" >0.0000</td>\n",
       "      <td id=\"T_92b7c_row0_col3\" class=\"data row0 col3\" >0.0000</td>\n",
       "      <td id=\"T_92b7c_row0_col4\" class=\"data row0 col4\" >3893.0000</td>\n",
       "      <td id=\"T_92b7c_row0_col5\" class=\"data row0 col5\" >0.0000</td>\n",
       "    </tr>\n",
       "    <tr>\n",
       "      <th id=\"T_92b7c_level0_row1\" class=\"row_heading level0 row1\" >IWM</th>\n",
       "      <td id=\"T_92b7c_row1_col0\" class=\"data row1 col0\" >0.0000</td>\n",
       "      <td id=\"T_92b7c_row1_col1\" class=\"data row1 col1\" >0.1500</td>\n",
       "      <td id=\"T_92b7c_row1_col2\" class=\"data row1 col2\" >0.0000</td>\n",
       "      <td id=\"T_92b7c_row1_col3\" class=\"data row1 col3\" >0.0000</td>\n",
       "      <td id=\"T_92b7c_row1_col4\" class=\"data row1 col4\" >3893.0000</td>\n",
       "      <td id=\"T_92b7c_row1_col5\" class=\"data row1 col5\" >0.0000</td>\n",
       "    </tr>\n",
       "    <tr>\n",
       "      <th id=\"T_92b7c_level0_row2\" class=\"row_heading level0 row2\" >QQQ</th>\n",
       "      <td id=\"T_92b7c_row2_col0\" class=\"data row2 col0\" >0.0000</td>\n",
       "      <td id=\"T_92b7c_row2_col1\" class=\"data row2 col1\" >0.1500</td>\n",
       "      <td id=\"T_92b7c_row2_col2\" class=\"data row2 col2\" >0.0000</td>\n",
       "      <td id=\"T_92b7c_row2_col3\" class=\"data row2 col3\" >0.0000</td>\n",
       "      <td id=\"T_92b7c_row2_col4\" class=\"data row2 col4\" >3893.0000</td>\n",
       "      <td id=\"T_92b7c_row2_col5\" class=\"data row2 col5\" >0.0000</td>\n",
       "    </tr>\n",
       "    <tr>\n",
       "      <th id=\"T_92b7c_level0_row3\" class=\"row_heading level0 row3\" >SPY</th>\n",
       "      <td id=\"T_92b7c_row3_col0\" class=\"data row3 col0\" >0.0000</td>\n",
       "      <td id=\"T_92b7c_row3_col1\" class=\"data row3 col1\" >0.1500</td>\n",
       "      <td id=\"T_92b7c_row3_col2\" class=\"data row3 col2\" >0.0000</td>\n",
       "      <td id=\"T_92b7c_row3_col3\" class=\"data row3 col3\" >0.0000</td>\n",
       "      <td id=\"T_92b7c_row3_col4\" class=\"data row3 col4\" >3893.0000</td>\n",
       "      <td id=\"T_92b7c_row3_col5\" class=\"data row3 col5\" >0.0000</td>\n",
       "    </tr>\n",
       "    <tr>\n",
       "      <th id=\"T_92b7c_level0_row4\" class=\"row_heading level0 row4\" >TLT</th>\n",
       "      <td id=\"T_92b7c_row4_col0\" class=\"data row4 col0\" >0.0000</td>\n",
       "      <td id=\"T_92b7c_row4_col1\" class=\"data row4 col1\" >0.1500</td>\n",
       "      <td id=\"T_92b7c_row4_col2\" class=\"data row4 col2\" >0.0000</td>\n",
       "      <td id=\"T_92b7c_row4_col3\" class=\"data row4 col3\" >0.0005</td>\n",
       "      <td id=\"T_92b7c_row4_col4\" class=\"data row4 col4\" >3893.0000</td>\n",
       "      <td id=\"T_92b7c_row4_col5\" class=\"data row4 col5\" >0.0000</td>\n",
       "    </tr>\n",
       "  </tbody>\n",
       "</table>\n"
      ]
     },
     "metadata": {},
     "output_type": "display_data"
    }
   ],
   "execution_count": 6
  },
  {
   "cell_type": "code",
   "id": "51dfc62b",
   "metadata": {
    "ExecuteTime": {
     "end_time": "2025-06-26T21:40:11.182269Z",
     "start_time": "2025-06-26T21:39:52.457413Z"
    }
   },
   "source": [
    "WIN = 252  # one trading year\n",
    "results = []\n",
    "for tkr in tqdm(tickers, desc=\"Rolling windows\"):\n",
    "    for end in range(WIN, len(rets)):\n",
    "        sub = rets[tkr].iloc[end-WIN:end]\n",
    "        row = run_normality_tests(sub)\n",
    "        row.update({'Ticker': tkr, 'EndDate': sub.index[-1]})\n",
    "        results.append(row)\n",
    "roll_df = pd.DataFrame(results)\n",
    "normal_windows = roll_df[roll_df['Accept']]\n",
    "normal_windows.head()"
   ],
   "outputs": [
    {
     "name": "stderr",
     "output_type": "stream",
     "text": [
      "Rolling windows: 100%|██████████| 5/5 [00:18<00:00,  3.71s/it]\n"
     ]
    },
    {
     "data": {
      "text/plain": [
       "       Shapiro  Anderson  Jarque‑Bera        KS    n  Accept Ticker    EndDate\n",
       "1123  0.053569      0.15     0.234636  0.423499  252    True    SPY 2015-06-22\n",
       "1124  0.053725      0.15     0.233043  0.428281  252    True    SPY 2015-06-23\n",
       "1125  0.057120      0.15     0.241773  0.420706  252    True    SPY 2015-06-24\n",
       "1126  0.058967      0.15     0.247512  0.478864  252    True    SPY 2015-06-25\n",
       "1127  0.058596      0.15     0.246322  0.481574  252    True    SPY 2015-06-26"
      ],
      "text/html": [
       "<div>\n",
       "<style scoped>\n",
       "    .dataframe tbody tr th:only-of-type {\n",
       "        vertical-align: middle;\n",
       "    }\n",
       "\n",
       "    .dataframe tbody tr th {\n",
       "        vertical-align: top;\n",
       "    }\n",
       "\n",
       "    .dataframe thead th {\n",
       "        text-align: right;\n",
       "    }\n",
       "</style>\n",
       "<table border=\"1\" class=\"dataframe\">\n",
       "  <thead>\n",
       "    <tr style=\"text-align: right;\">\n",
       "      <th></th>\n",
       "      <th>Shapiro</th>\n",
       "      <th>Anderson</th>\n",
       "      <th>Jarque‑Bera</th>\n",
       "      <th>KS</th>\n",
       "      <th>n</th>\n",
       "      <th>Accept</th>\n",
       "      <th>Ticker</th>\n",
       "      <th>EndDate</th>\n",
       "    </tr>\n",
       "  </thead>\n",
       "  <tbody>\n",
       "    <tr>\n",
       "      <th>1123</th>\n",
       "      <td>0.053569</td>\n",
       "      <td>0.15</td>\n",
       "      <td>0.234636</td>\n",
       "      <td>0.423499</td>\n",
       "      <td>252</td>\n",
       "      <td>True</td>\n",
       "      <td>SPY</td>\n",
       "      <td>2015-06-22</td>\n",
       "    </tr>\n",
       "    <tr>\n",
       "      <th>1124</th>\n",
       "      <td>0.053725</td>\n",
       "      <td>0.15</td>\n",
       "      <td>0.233043</td>\n",
       "      <td>0.428281</td>\n",
       "      <td>252</td>\n",
       "      <td>True</td>\n",
       "      <td>SPY</td>\n",
       "      <td>2015-06-23</td>\n",
       "    </tr>\n",
       "    <tr>\n",
       "      <th>1125</th>\n",
       "      <td>0.057120</td>\n",
       "      <td>0.15</td>\n",
       "      <td>0.241773</td>\n",
       "      <td>0.420706</td>\n",
       "      <td>252</td>\n",
       "      <td>True</td>\n",
       "      <td>SPY</td>\n",
       "      <td>2015-06-24</td>\n",
       "    </tr>\n",
       "    <tr>\n",
       "      <th>1126</th>\n",
       "      <td>0.058967</td>\n",
       "      <td>0.15</td>\n",
       "      <td>0.247512</td>\n",
       "      <td>0.478864</td>\n",
       "      <td>252</td>\n",
       "      <td>True</td>\n",
       "      <td>SPY</td>\n",
       "      <td>2015-06-25</td>\n",
       "    </tr>\n",
       "    <tr>\n",
       "      <th>1127</th>\n",
       "      <td>0.058596</td>\n",
       "      <td>0.15</td>\n",
       "      <td>0.246322</td>\n",
       "      <td>0.481574</td>\n",
       "      <td>252</td>\n",
       "      <td>True</td>\n",
       "      <td>SPY</td>\n",
       "      <td>2015-06-26</td>\n",
       "    </tr>\n",
       "  </tbody>\n",
       "</table>\n",
       "</div>"
      ]
     },
     "execution_count": 7,
     "metadata": {},
     "output_type": "execute_result"
    }
   ],
   "execution_count": 7
  },
  {
   "cell_type": "code",
   "id": "f976cb5f",
   "metadata": {
    "ExecuteTime": {
     "end_time": "2025-06-26T21:47:57.895911Z",
     "start_time": "2025-06-26T21:47:57.848583Z"
    }
   },
   "source": [
    "trim_pct = 0.01  # winsorize 1 % tails\n",
    "for tkr in tickers:\n",
    "    trimmed = rets[tkr].clip(lower=rets[tkr].quantile(trim_pct),\n",
    "                             upper =rets[tkr].quantile(1-trim_pct))\n",
    "    print(tkr, \"→ All tests accept normality:\" , run_normality_tests(trimmed)['Accept'])"
   ],
   "outputs": [
    {
     "name": "stdout",
     "output_type": "stream",
     "text": [
      "SPY → All tests accept normality: False\n",
      "QQQ → All tests accept normality: False\n",
      "IWM → All tests accept normality: False\n",
      "TLT → All tests accept normality: False\n",
      "GLD → All tests accept normality: False\n"
     ]
    }
   ],
   "execution_count": 10
  },
  {
   "cell_type": "code",
   "id": "8d1460ba",
   "metadata": {
    "ExecuteTime": {
     "end_time": "2025-06-26T21:40:18.418149Z",
     "start_time": "2025-06-26T21:40:18.402730Z"
    }
   },
   "source": [
    "w = pd.Series(1/len(tickers), index=tickers)  # equal weights\n",
    "port_rets = (rets * w).sum(axis=1)\n",
    "run_normality_tests(port_rets)"
   ],
   "outputs": [
    {
     "data": {
      "text/plain": [
       "{'Shapiro': np.float64(2.5517133233339107e-40),\n",
       " 'Anderson': np.float64(0.15),\n",
       " 'Jarque‑Bera': np.float64(0.0),\n",
       " 'KS': np.float64(4.3288609453078797e-17),\n",
       " 'n': 3893,\n",
       " 'Accept': False}"
      ]
     },
     "execution_count": 9,
     "metadata": {},
     "output_type": "execute_result"
    }
   ],
   "execution_count": 9
  },
  {
   "cell_type": "markdown",
   "id": "701f4964",
   "metadata": {},
   "source": [
    "## Interpretation\n",
    "* **Most daily log‑return series reject normality** over long horizons because of heavy tails and volatility clustering.\n",
    "* **Calm sub‑periods** (occasionally visible in the rolling scan) *can* pass stringent tests.\n",
    "* **Tail trimming** mainly addresses excess kurtosis and often helps.\n",
    "* **Portfolio aggregation** (diversification) plus the central‑limit effect makes the distribution more Gaussian.\n",
    "\n",
    "### Ideas for extension\n",
    "* Replace daily with **weekly** or **monthly** frequency and re‑test.\n",
    "* **Volatility‑scale** returns by dividing by an intraday or implied‑vol measure.\n",
    "* Fit and compare **t‑distributions** or **skew‑t** alternatives.\n"
   ]
  }
 ],
 "metadata": {},
 "nbformat": 4,
 "nbformat_minor": 5
}
