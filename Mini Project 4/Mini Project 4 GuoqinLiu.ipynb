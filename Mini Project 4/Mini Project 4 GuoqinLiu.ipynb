{
 "cells": [
  {
   "cell_type": "markdown",
   "id": "f5334bd5",
   "metadata": {},
   "source": [
    "# Delta‑ & σ‑Hedging under Stochastic Volatility\n",
    "_A mini‑project workbook_"
   ]
  },
  {
   "cell_type": "markdown",
   "id": "1731fe9f",
   "metadata": {},
   "source": [
    "\n",
    "This notebook explores:\n",
    "\n",
    "* How delta‑hedging a short European call performs when volatility is **not constant**  \n",
    "* How adding a **σ‑(vega‑) hedge** collapses the P&L dispersion  \n",
    "* Three volatility engines you can switch between:\n",
    "  1. **Custom discrete σ** per step (starter code)  \n",
    "  2. **Heston** stochastic volatility  \n",
    "  3. **GARCH(1, 1)** with volatility clustering\n"
   ]
  },
  {
   "cell_type": "code",
   "id": "89e7e8a8",
   "metadata": {
    "ExecuteTime": {
     "end_time": "2025-06-26T22:33:13.920229Z",
     "start_time": "2025-06-26T22:33:13.908803Z"
    }
   },
   "source": [
    "\n",
    "import numpy as np\n",
    "import pandas as pd\n",
    "import matplotlib.pyplot as plt\n",
    "import seaborn as sns\n",
    "from scipy.stats import norm\n",
    "\n",
    "sns.set_style('darkgrid')\n"
   ],
   "outputs": [],
   "execution_count": 1
  },
  {
   "cell_type": "markdown",
   "id": "d888c695",
   "metadata": {},
   "source": [
    "## 1  Custom per‑step σ\n",
    "A quick toy model: every time‑step the volatility is randomly chosen from a fixed set."
   ]
  },
  {
   "cell_type": "code",
   "id": "e60653a3",
   "metadata": {
    "ExecuteTime": {
     "end_time": "2025-06-26T22:33:22.265303Z",
     "start_time": "2025-06-26T22:33:22.261517Z"
    }
   },
   "source": [
    "\n",
    "def stock_path_custom_sigma(S0, T, r, mu, n_paths=10_000, n_steps=252):\n",
    "    \"\"\"Discrete‑time GBM with i.i.d. σ at each step\"\"\"\n",
    "    noise  = np.random.normal(size=(n_paths, n_steps))\n",
    "    sigma  = np.random.choice([0.2, 0.3, 0.45], p=[0.5, 0.3, 0.2],\n",
    "                              size=(n_paths, n_steps))\n",
    "    dt = T / n_steps\n",
    "    increments = (mu + r - 0.5*sigma**2)*dt + sigma*np.sqrt(dt)*noise\n",
    "    log_returns = np.cumsum(increments, axis=1)\n",
    "    paths = S0 * np.exp(log_returns)\n",
    "    paths = np.insert(paths, 0, S0, axis=1)\n",
    "    return paths, sigma\n"
   ],
   "outputs": [],
   "execution_count": 2
  },
  {
   "cell_type": "markdown",
   "id": "ffb6a3b7",
   "metadata": {},
   "source": [
    "## 2  Heston stochastic volatility"
   ]
  },
  {
   "cell_type": "code",
   "id": "c68e34ea",
   "metadata": {
    "ExecuteTime": {
     "end_time": "2025-06-26T22:33:52.895729Z",
     "start_time": "2025-06-26T22:33:52.890008Z"
    }
   },
   "source": [
    "\n",
    "def heston_paths(S0, v0, mu, r,\n",
    "                 kappa, theta, xi, rho,\n",
    "                 T=1.0, n_steps=252, n_paths=10_000, floor=1e-8):\n",
    "    dt   = T / n_steps\n",
    "    S    = np.zeros((n_paths, n_steps+1))\n",
    "    v    = np.zeros_like(S)\n",
    "    S[:,0] = S0\n",
    "    v[:,0] = v0\n",
    "    for t in range(1, n_steps+1):\n",
    "        z1 = np.random.normal(size=n_paths)\n",
    "        z2 = np.random.normal(size=n_paths)\n",
    "        w1 = z1\n",
    "        w2 = rho*z1 + np.sqrt(1 - rho**2)*z2\n",
    "        v_prev = v[:,t-1]\n",
    "        v_next = np.maximum(v_prev + kappa*(theta - v_prev)*dt\n",
    "                            + xi*np.sqrt(v_prev*dt)*w2, floor)\n",
    "        S[:,t] = S[:,t-1]*np.exp((mu - 0.5*v_prev)*dt\n",
    "                                 + np.sqrt(v_prev*dt)*w1)\n",
    "        v[:,t] = v_next\n",
    "    return S, np.sqrt(v)      # return σ_t\n"
   ],
   "outputs": [],
   "execution_count": 3
  },
  {
   "cell_type": "markdown",
   "id": "3be6c45a",
   "metadata": {},
   "source": [
    "## 3  GARCH(1, 1) volatility clustering"
   ]
  },
  {
   "cell_type": "code",
   "id": "e4fd64e6",
   "metadata": {
    "ExecuteTime": {
     "end_time": "2025-06-26T22:33:55.584548Z",
     "start_time": "2025-06-26T22:33:55.580337Z"
    }
   },
   "source": [
    "\n",
    "def garch_paths(S0, mu, r,\n",
    "                omega, alpha, beta,\n",
    "                T=1.0, n_steps=252, n_paths=10_000):\n",
    "    dt   = T / n_steps\n",
    "    S    = np.zeros((n_paths, n_steps+1))\n",
    "    sig2 = np.zeros_like(S)\n",
    "    S[:,0]    = S0\n",
    "    sig2[:,0] = omega / (1 - alpha - beta)      # long‑run variance\n",
    "    for t in range(1, n_steps+1):\n",
    "        z   = np.random.normal(size=n_paths)\n",
    "        eps = np.sqrt(sig2[:,t-1])*np.sqrt(dt)*z\n",
    "        sig2[:,t] = (omega + alpha*eps**2/dt + beta*sig2[:,t-1])\n",
    "        S[:,t] = S[:,t-1]*np.exp((mu - 0.5*sig2[:,t-1])*dt\n",
    "                                 + np.sqrt(sig2[:,t-1]*dt)*z)\n",
    "    return S, np.sqrt(sig2)\n"
   ],
   "outputs": [],
   "execution_count": 4
  },
  {
   "cell_type": "markdown",
   "id": "190828ab",
   "metadata": {},
   "source": [
    "## 4  Black–Scholes price & greeks"
   ]
  },
  {
   "cell_type": "code",
   "id": "376a60b4",
   "metadata": {
    "ExecuteTime": {
     "end_time": "2025-06-26T22:33:57.403935Z",
     "start_time": "2025-06-26T22:33:57.398925Z"
    }
   },
   "source": [
    "\n",
    "def bs_price(S, K, T, r, sigma, call=True):\n",
    "    d1 = (np.log(S/K) + (r + 0.5*sigma**2)*T)/(sigma*np.sqrt(T))\n",
    "    d2 = d1 - sigma*np.sqrt(T)\n",
    "    if call:\n",
    "        return S*norm.cdf(d1) - K*np.exp(-r*T)*norm.cdf(d2)\n",
    "    else:\n",
    "        return K*np.exp(-r*T)*norm.cdf(-d2) - S*norm.cdf(-d1)\n",
    "\n",
    "def bs_greeks(S, K, T, r, sigma):\n",
    "    d1 = (np.log(S/K) + (r + 0.5*sigma**2)*T)/(sigma*np.sqrt(T))\n",
    "    delta = norm.cdf(d1)\n",
    "    vega  = S * norm.pdf(d1) * np.sqrt(T)\n",
    "    gamma = norm.pdf(d1) / (S*sigma*np.sqrt(T))\n",
    "    return delta, vega, gamma\n"
   ],
   "outputs": [],
   "execution_count": 5
  },
  {
   "cell_type": "markdown",
   "id": "6b92a4d0",
   "metadata": {},
   "source": [
    "## 5  Hedging engines"
   ]
  },
  {
   "cell_type": "code",
   "id": "9feec579",
   "metadata": {
    "ExecuteTime": {
     "end_time": "2025-06-26T22:33:59.267984Z",
     "start_time": "2025-06-26T22:33:59.263539Z"
    }
   },
   "source": [
    "\n",
    "def delta_hedge_path(S_path, sig_path, K, r, dt):\n",
    "    \"\"\"Discounted P&L of a *short* call hedged only with shares.\"\"\"\n",
    "    n_steps = len(S_path) - 1\n",
    "    cash   = 0.0\n",
    "    # open\n",
    "    T_rem  = n_steps*dt\n",
    "    P0     = bs_price(S_path[0], K, T_rem, r, sig_path[0])\n",
    "    delta, *_ = bs_greeks(S_path[0], K, T_rem, r, sig_path[0])\n",
    "    shares = delta\n",
    "    cash -= shares*S_path[0] - P0\n",
    "    for t in range(1, n_steps):\n",
    "        cash *= np.exp(r*dt)\n",
    "        T_rem = (n_steps - t)*dt\n",
    "        delta_new, *_ = bs_greeks(S_path[t], K, T_rem, r, sig_path[t])\n",
    "        d_shares = delta_new - shares\n",
    "        cash -= d_shares*S_path[t]\n",
    "        shares = delta_new\n",
    "    cash *= np.exp(r*dt)\n",
    "    payoff = max(S_path[-1] - K, 0.0)\n",
    "    pnl = cash + shares*S_path[-1] - payoff\n",
    "    return pnl\n"
   ],
   "outputs": [],
   "execution_count": 6
  },
  {
   "cell_type": "markdown",
   "id": "3686ad53",
   "metadata": {},
   "source": [
    "## 6  Monte‑Carlo wrapper"
   ]
  },
  {
   "cell_type": "code",
   "id": "893e2405",
   "metadata": {
    "ExecuteTime": {
     "end_time": "2025-06-26T22:34:01.623530Z",
     "start_time": "2025-06-26T22:34:01.618666Z"
    }
   },
   "source": [
    "\n",
    "def experiment(model='heston', n_paths=5_000,\n",
    "               delta_hedge=True, seed=1234):\n",
    "    np.random.seed(seed)\n",
    "    # market setup\n",
    "    S0, K, r, mu = 100, 100, 0.02, 0.0\n",
    "    T, n_steps   = 1.0, 252\n",
    "    dt           = T / n_steps\n",
    "\n",
    "    # choose a volatility engine\n",
    "    if model == 'custom':\n",
    "        S, sig = stock_path_custom_sigma(S0, T, r, mu,\n",
    "                                         n_paths=n_paths, n_steps=n_steps)\n",
    "    elif model == 'heston':\n",
    "        S, sig = heston_paths(S0, v0=0.04, mu=mu, r=r,\n",
    "                              kappa=2.0, theta=0.04, xi=0.35, rho=-0.5,\n",
    "                              T=T, n_steps=n_steps, n_paths=n_paths)\n",
    "    elif model == 'garch':\n",
    "        S, sig = garch_paths(S0, mu, r,\n",
    "                             omega=5e-6, alpha=0.06, beta=0.93,\n",
    "                             T=T, n_steps=n_steps, n_paths=n_paths)\n",
    "    else:\n",
    "        raise ValueError(\"model must be 'custom', 'heston', or 'garch'\")\n",
    "\n",
    "    pnl = np.empty(n_paths)\n",
    "    for i in range(n_paths):\n",
    "        pnl[i] = delta_hedge_path(S[i], sig[i], K, r, dt)\n",
    "    return pnl\n"
   ],
   "outputs": [],
   "execution_count": 7
  },
  {
   "cell_type": "markdown",
   "id": "c7c49f03",
   "metadata": {},
   "source": "## 7  Experiment – Heston  (1 000 paths)"
  },
  {
   "cell_type": "code",
   "id": "cb7a84c9",
   "metadata": {
    "ExecuteTime": {
     "end_time": "2025-06-26T22:37:55.620513Z",
     "start_time": "2025-06-26T22:37:37.788951Z"
    }
   },
   "source": [
    "\n",
    "pnl_heston = experiment('heston', n_paths=1_000)\n",
    "plt.figure(figsize=(6,4))\n",
    "plt.hist(pnl_heston, bins=60, density=True)\n",
    "plt.title(\"Delta-hedged P&L - Heston (1k paths)\")\n",
    "plt.xlabel(\"Discounted P&L\")\n",
    "plt.show()\n",
    "print(f\"Mean = {pnl_heston.mean():.4f},  Std = {pnl_heston.std():.4f}\")\n"
   ],
   "outputs": [
    {
     "data": {
      "text/plain": [
       "<Figure size 600x400 with 1 Axes>"
      ],
      "image/png": "[encoded data removed]"
     },
     "metadata": {},
     "output_type": "display_data"
    },
    {
     "name": "stdout",
     "output_type": "stream",
     "text": [
      "Mean = 0.3296,  Std = 2.0259\n"
     ]
    }
   ],
   "execution_count": 11
  },
  {
   "cell_type": "markdown",
   "id": "c2819c24",
   "metadata": {},
   "source": "## 8  Experiment – GARCH  (1 000 paths)"
  },
  {
   "cell_type": "code",
   "id": "bdb3ae07",
   "metadata": {
    "ExecuteTime": {
     "end_time": "2025-06-26T22:38:15.504779Z",
     "start_time": "2025-06-26T22:37:58.920458Z"
    }
   },
   "source": [
    "\n",
    "pnl_garch = experiment('garch', n_paths=1_000)\n",
    "plt.figure(figsize=(6,4))\n",
    "plt.hist(pnl_garch, bins=60, density=True)\n",
    "plt.title(\"Delta-hedged P&L - GARCH (1k paths)\")\n",
    "plt.xlabel(\"Discounted P&L\")\n",
    "plt.show()\n",
    "print(f\"Mean = {pnl_garch.mean():.4f},  Std = {pnl_garch.std():.4f}\")\n"
   ],
   "outputs": [
    {
     "data": {
      "text/plain": [
       "<Figure size 600x400 with 1 Axes>"
      ],
      "image/png": "[encoded data removed]"
     },
     "metadata": {},
     "output_type": "display_data"
    },
    {
     "name": "stdout",
     "output_type": "stream",
     "text": [
      "Mean = -0.0034,  Std = 0.1850\n"
     ]
    }
   ],
   "execution_count": 12
  },
  {
   "cell_type": "markdown",
   "id": "c9fd6f9a",
   "metadata": {},
   "source": [
    "\n",
    "---  \n",
    "### Things to try\n",
    "* Increase `n_paths` to 20 000–50 000 for smoother histograms.  \n",
    "* Add a **vega hedge**: choose a second call and solve `vega₁ + q·vega₂ = 0` each rebalance.  \n",
    "* Insert bid‑ask spreads per share & per option and study the breakeven.\n"
   ]
  }
 ],
 "metadata": {},
 "nbformat": 4,
 "nbformat_minor": 5
}
